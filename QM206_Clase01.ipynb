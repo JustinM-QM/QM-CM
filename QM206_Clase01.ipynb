{
  "cells": [
    {
      "cell_type": "markdown",
      "metadata": {
        "id": "view-in-github",
        "colab_type": "text"
      },
      "source": [
        "<a href=\"https://colab.research.google.com/github/JustinM-QM/QM-CM/blob/main/QM206_Clase01.ipynb\" target=\"_parent\"><img src=\"https://colab.research.google.com/assets/colab-badge.svg\" alt=\"Open In Colab\"/></a>"
      ]
    },
    {
      "cell_type": "markdown",
      "source": [
        "Lista Elementos químicos"
      ],
      "metadata": {
        "id": "Jh7bCzypjxoq"
      }
    },
    {
      "cell_type": "code",
      "source": [
        "elementos=[]\n",
        "elem={\"simbolo\":\"H\", \"NA\":1,\"Masa atomica\":1.008}\n",
        "elementos.append(elem)\n",
        "elem={\"simbolo\":\"He\", \"NA\":2,\"Masa atomica\":4.0026}\n",
        "elementos.append(elem)\n",
        "elem={\"simbolo\":\"Li\", \"NA\":3,\"Masa atomica\":6.941}\n",
        "elementos.append(elem)\n",
        "elem={\"simbolo\":\"Be\", \"NA\":4,\"Masa atomica\":9.0122}\n",
        "elementos.append(elem)\n",
        "elem={\"simbolo\":\"B\", \"NA\":5,\"Masa atomica\":10.811}\n",
        "elementos.append(elem)\n",
        "elem={\"simbolo\":\"C\", \"NA\":6,\"Masa atomica\":12.0107}\n",
        "elementos.append(elem)\n",
        "elem={\"simbolo\":\"N\", \"NA\":7,\"Masa atomica\":14.0067}\n",
        "elementos.append(elem)\n",
        "elem={\"simbolo\":\"O\", \"NA\":8,\"Masa atomica\":15.9994}\n",
        "elementos.append(elem)\n",
        "elem={\"simbolo\":\"F\", \"NA\":9,\"Masa atomica\":18.9984}\n",
        "elementos.append(elem)\n",
        "elem={\"simbolo\":\"Ne\", \"NA\":10,\"Masa atomica\":20.1797}\n",
        "elementos.append(elem)\n",
        "elem={\"simbolo\":\"Na\", \"NA\":11,\"Masa atomica\":22.9897}\n",
        "elementos.append(elem)\n",
        "elem={\"simbolo\":\"Mg\", \"NA\":12,\"Masa atomica\":24.305}\n",
        "elementos.append(elem)\n",
        "elem={\"simbolo\":\"Al\", \"NA\":13,\"Masa atomica\":26.9815}\n",
        "elementos.append(elem)\n",
        "elem={\"simbolo\":\"Si\", \"NA\":14,\"Masa atomica\":28.0855}\n",
        "elementos.append(elem)\n",
        "elem={\"simbolo\":\"P\", \"NA\":15,\"Masa atomica\":30.9737}\n",
        "elementos.append(elem)\n",
        "elem={\"simbolo\":\"S\", \"NA\":16,\"Masa atomica\":32.065}\n",
        "elementos.append(elem)\n",
        "elem={\"simbolo\":\"Cl\", \"NA\":17,\"Masa atomica\":35.453}\n",
        "elementos.append(elem)\n",
        "elem={\"simbolo\":\"Ar\", \"NA\":18,\"Masa atomica\":39.948}\n",
        "elementos.append(elem)\n",
        "elem={\"simbolo\":\"K\", \"NA\":19,\"Masa atomica\":39.0983}\n",
        "elementos.append(elem)\n",
        "elem={\"simbolo\":\"Ca\", \"NA\":20,\"Masa atomica\":40.078}\n",
        "elementos.append(elem)\n",
        "print(elementos)\n"
      ],
      "metadata": {
        "colab": {
          "base_uri": "https://localhost:8080/"
        },
        "id": "UCV-jsyzj5er",
        "outputId": "87b53f16-6cff-4b6b-f1ef-34491980d459"
      },
      "execution_count": 9,
      "outputs": [
        {
          "output_type": "stream",
          "name": "stdout",
          "text": [
            "[{'simbolo': 'H', 'NA': 1, 'Masa atomica': 1.008}, {'simbolo': 'He', 'NA': 2, 'Masa atomica': 4.0026}, {'simbolo': 'Li', 'NA': 3, 'Masa atomica': 6.941}, {'simbolo': 'Be', 'NA': 4, 'Masa atomica': 9.0122}, {'simbolo': 'B', 'NA': 5, 'Masa atomica': 10.811}, {'simbolo': 'C', 'NA': 6, 'Masa atomica': 12.0107}, {'simbolo': 'N', 'NA': 7, 'Masa atomica': 14.0067}, {'simbolo': 'O', 'NA': 8, 'Masa atomica': 15.9994}, {'simbolo': 'F', 'NA': 9, 'Masa atomica': 18.9984}, {'simbolo': 'Ne', 'NA': 10, 'Masa atomica': 20.1797}, {'simbolo': 'Na', 'NA': 11, 'Masa atomica': 22.9897}, {'simbolo': 'Mg', 'NA': 12, 'Masa atomica': 24.305}, {'simbolo': 'Al', 'NA': 13, 'Masa atomica': 26.9815}, {'simbolo': 'Si', 'NA': 14, 'Masa atomica': 28.0855}, {'simbolo': 'P', 'NA': 15, 'Masa atomica': 30.9737}, {'simbolo': 'S', 'NA': 16, 'Masa atomica': 32.065}, {'simbolo': 'Cl', 'NA': 17, 'Masa atomica': 35.453}, {'simbolo': 'Ar', 'NA': 18, 'Masa atomica': 39.948}, {'simbolo': 'K', 'NA': 19, 'Masa atomica': 39.0983}, {'simbolo': 'Ca', 'NA': 20, 'Masa atomica': 40.078}]\n"
          ]
        }
      ]
    }
  ],
  "metadata": {
    "colab": {
      "provenance": [],
      "include_colab_link": true
    },
    "kernelspec": {
      "display_name": "Python 3",
      "name": "python3"
    }
  },
  "nbformat": 4,
  "nbformat_minor": 0
}